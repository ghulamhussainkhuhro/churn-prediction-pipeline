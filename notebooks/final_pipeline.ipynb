{
 "cells": [
  {
   "cell_type": "code",
   "execution_count": 1,
   "id": "0ca2e1a6-d36f-4afb-87b4-e455ad00c978",
   "metadata": {},
   "outputs": [],
   "source": [
    "# 1. Imports & Setup\n",
    "import sys\n",
    "import os\n",
    "sys.path.append(os.path.abspath(\"..\"))\n",
    "\n",
    "import pandas as pd\n",
    "import joblib\n",
    "from sklearn.metrics import classification_report\n",
    "from pipeline.preprocess import Preprocessor"
   ]
  },
  {
   "cell_type": "markdown",
   "id": "e7a7a278-6eca-42cb-b655-8ed1efebbeed",
   "metadata": {},
   "source": [
    "# 2. Problem Statement\n",
    "\"\"\"\n",
    "Customer churn prediction using a scikit-learn pipeline.\n",
    "Objective: Build a reusable, tunable, and exportable pipeline for binary classification.\n",
    "\"\"\""
   ]
  },
  {
   "cell_type": "code",
   "execution_count": 2,
   "id": "a3133823-1993-439d-9a2a-01e3cfe9934c",
   "metadata": {},
   "outputs": [],
   "source": [
    "# 3. Load & Clean Data\n",
    "df = pd.read_csv(\"../data/telco_churn.csv\")\n",
    "df['TotalCharges'] = pd.to_numeric(df['TotalCharges'], errors='coerce')\n",
    "df = df.dropna(subset=['TotalCharges'])\n",
    "df['Churn'] = df['Churn'].map({'Yes': 1, 'No': 0})\n",
    "\n",
    "X = df.drop(columns=['Churn'])\n",
    "y = df['Churn']"
   ]
  },
  {
   "cell_type": "code",
   "execution_count": 3,
   "id": "8d8bd449-8f1b-4697-ad2a-18e8504ac7a8",
   "metadata": {},
   "outputs": [],
   "source": [
    "# 4. Load Trained Pipeline\n",
    "pipeline = joblib.load(\"../models/churn_pipeline_tuned.joblib\")"
   ]
  },
  {
   "cell_type": "code",
   "execution_count": 4,
   "id": "7aba0b69-ed89-4140-886c-d641d2b81f60",
   "metadata": {},
   "outputs": [],
   "source": [
    "# 5. Evaluate Final Model\n",
    "from sklearn.model_selection import train_test_split\n",
    "X_train, X_test, y_train, y_test = train_test_split(X, y, stratify=y, test_size=0.2, random_state=42)"
   ]
  },
  {
   "cell_type": "code",
   "execution_count": 5,
   "id": "2d3905c2-13ec-438f-9da3-7fae8616b7d7",
   "metadata": {},
   "outputs": [
    {
     "name": "stdout",
     "output_type": "stream",
     "text": [
      "Final Classification Report:\n",
      "              precision    recall  f1-score   support\n",
      "\n",
      "           0       0.85      0.89      0.87      1033\n",
      "           1       0.65      0.57      0.61       374\n",
      "\n",
      "    accuracy                           0.80      1407\n",
      "   macro avg       0.75      0.73      0.74      1407\n",
      "weighted avg       0.80      0.80      0.80      1407\n",
      "\n"
     ]
    }
   ],
   "source": [
    "y_pred = pipeline.predict(X_test)\n",
    "print(\"Final Classification Report:\")\n",
    "print(classification_report(y_test, y_pred))\n"
   ]
  },
  {
   "cell_type": "markdown",
   "id": "6c5ba049-02e4-4386-aed9-253f0d4811d2",
   "metadata": {},
   "source": [
    "# 6. Summary & Insights\n",
    "\"\"\"\n",
    "The final tuned pipeline achieved strong performance on customer churn prediction.\n",
    "It uses a full preprocessing + modeling flow with support for scaling and encoding.\n",
    "\n",
    "Key Takeaways:\n",
    "- Pipeline model can be reused in production\n",
    "- Churn prediction helps optimize customer retention strategies\n",
    "- Easily extensible with new models or features\n",
    "\"\"\""
   ]
  },
  {
   "cell_type": "code",
   "execution_count": null,
   "id": "35223aec-c209-4872-bbda-1a005bec1ebb",
   "metadata": {},
   "outputs": [],
   "source": []
  }
 ],
 "metadata": {
  "kernelspec": {
   "display_name": "Python (venv)",
   "language": "python",
   "name": "venv"
  },
  "language_info": {
   "codemirror_mode": {
    "name": "ipython",
    "version": 3
   },
   "file_extension": ".py",
   "mimetype": "text/x-python",
   "name": "python",
   "nbconvert_exporter": "python",
   "pygments_lexer": "ipython3",
   "version": "3.11.9"
  }
 },
 "nbformat": 4,
 "nbformat_minor": 5
}
