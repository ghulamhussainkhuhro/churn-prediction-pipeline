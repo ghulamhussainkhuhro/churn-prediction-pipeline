{
 "cells": [
  {
   "cell_type": "markdown",
   "id": "7781264b",
   "metadata": {},
   "source": [
    "# notebooks/EDA.ipynb"
   ]
  },
  {
   "cell_type": "markdown",
   "id": "1014b030",
   "metadata": {},
   "source": [
    "# 1. Imports\n",
    "import pandas as pd\n",
    "import matplotlib.pyplot as plt\n",
    "import seaborn as sns\n",
    "import os"
   ]
  }
 ],
 "metadata": {
  "language_info": {
   "name": "python"
  }
 },
 "nbformat": 4,
 "nbformat_minor": 5
}
