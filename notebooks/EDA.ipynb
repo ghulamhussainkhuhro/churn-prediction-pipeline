{
 "cells": [
  {
   "cell_type": "code",
   "execution_count": null,
   "id": "9ff8156e-cb1c-4394-8b51-3b80ce8983cc",
   "metadata": {},
   "outputs": [],
   "source": [
    "# Imports\n",
    "import pandas as pd\n",
    "import matplotlib.pyplot as plt\n",
    "import seaborn as sns\n",
    "import os"
   ]
  },
  {
   "cell_type": "code",
   "execution_count": null,
   "id": "09dc7a23-c200-4b57-8e34-e9d90fc03e74",
   "metadata": {},
   "outputs": [],
   "source": [
    "\n",
    "# Load dataset\n",
    "DATA_PATH = \"../data/telco_churn.csv\"\n",
    "df = pd.read_csv(DATA_PATH)\n"
   ]
  },
  {
   "cell_type": "code",
   "execution_count": null,
   "id": "8ebfd671-9f4c-4a91-82a9-33e393e2b9a4",
   "metadata": {},
   "outputs": [],
   "source": [
    "print(\"Shape of data:\", df.shape)\n",
    "df.head()"
   ]
  },
  {
   "cell_type": "code",
   "execution_count": null,
   "id": "ae86ace9-b032-4f78-9f1c-43842d9f8495",
   "metadata": {},
   "outputs": [],
   "source": [
    "# Check nulls\n",
    "print(\"\\nMissing values per column:\")\n",
    "print(df.isnull().sum())"
   ]
  },
  {
   "cell_type": "code",
   "execution_count": null,
   "id": "fb2d5c23-c370-4aa4-a676-cf8b76fac69c",
   "metadata": {},
   "outputs": [],
   "source": [
    "# 5. Data types\n",
    "print(\"\\nData types:\")\n",
    "print(df.dtypes)"
   ]
  },
  {
   "cell_type": "code",
   "execution_count": null,
   "id": "bb4e37ce-dfb4-4115-a172-cacaa22cc42b",
   "metadata": {},
   "outputs": [],
   "source": [
    "# 6. Churn distribution\n",
    "print(\"\\nChurn distribution:\")\n",
    "print(df['Churn'].value_counts(normalize=True))"
   ]
  },
  {
   "cell_type": "code",
   "execution_count": null,
   "id": "0f1d7dc3-1eb0-45fc-94c3-7c7a8a9b1286",
   "metadata": {},
   "outputs": [],
   "source": [
    "sns.countplot(x='Churn', data=df)\n",
    "plt.title(\"Class Distribution (Churn)\")\n",
    "plt.savefig(\"../results/churn_distribution.png\")\n",
    "plt.show()"
   ]
  },
  {
   "cell_type": "code",
   "execution_count": null,
   "id": "0cbcfc5b-f77d-4627-a451-0fa7345facb2",
   "metadata": {},
   "outputs": [],
   "source": [
    "# 7. Describe numerical columns\n",
    "df.describe()\n"
   ]
  }
 ],
 "metadata": {
  "kernelspec": {
   "display_name": "Python (venv)",
   "language": "python",
   "name": "venv"
  },
  "language_info": {
   "codemirror_mode": {
    "name": "ipython",
    "version": 3
   },
   "file_extension": ".py",
   "mimetype": "text/x-python",
   "name": "python",
   "nbconvert_exporter": "python",
   "pygments_lexer": "ipython3",
   "version": "3.11.9"
  }
 },
 "nbformat": 4,
 "nbformat_minor": 5
}
